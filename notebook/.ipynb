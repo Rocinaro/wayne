{
 "cells": [
  {
   "cell_type": "code",
   "execution_count": 1,
   "metadata": {},
   "outputs": [
    {
     "name": "stdout",
     "output_type": "stream",
     "text": [
      "Requirement already satisfied: pyodbc in c:\\users\\tobycribs\\anaconda3\\lib\\site-packages (5.0.1)\n",
      "Note: you may need to restart the kernel to use updated packages.\n",
      "Requirement already satisfied: python-dotenv in c:\\users\\tobycribs\\anaconda3\\lib\\site-packages (0.21.0)\n",
      "Note: you may need to restart the kernel to use updated packages.\n"
     ]
    }
   ],
   "source": [
    "%pip install pyodbc  \n",
    "%pip install python-dotenv"
   ]
  },
  {
   "cell_type": "code",
   "execution_count": 2,
   "metadata": {},
   "outputs": [],
   "source": [
    "import pyodbc    \n",
    "from dotenv import dotenv_values    #import the dotenv_values function from the dotenv package\n",
    "import pandas as pd\n",
    "import numpy as np\n",
    "import plotly.graph_objs as go\n",
    " \n",
    "import warnings\n",
    " \n",
    "warnings.filterwarnings('ignore')"
   ]
  },
  {
   "cell_type": "code",
   "execution_count": 3,
   "metadata": {},
   "outputs": [],
   "source": [
    "# Load environment variables from .env file into a dictionary\n",
    "environment_variables = dotenv_values('.env')\n",
    " \n",
    "# Get the values for the credentials you set in the '.env' file\n",
    "server = environment_variables.get(\"server\")\n",
    "database = environment_variables.get(\"database\")\n",
    "username = environment_variables.get(\"username\")\n",
    "password = environment_variables.get(\"password\")"
   ]
  },
  {
   "cell_type": "code",
   "execution_count": 4,
   "metadata": {},
   "outputs": [],
   "source": [
    "# Create a connection string\n",
    "connection_string = f\"DRIVER={{SQL Server}};SERVER={server};DATABASE={database};UID={username};PWD={password};MARS_Connection=yes;MinProtocolVersion=TLSv1.2;\""
   ]
  },
  {
   "cell_type": "code",
   "execution_count": 6,
   "metadata": {},
   "outputs": [],
   "source": [
    "# This will connect to the server and might take a few seconds to be complete.\n",
    " \n",
    "connection = pyodbc.connect(connection_string)"
   ]
  },
  {
   "cell_type": "code",
   "execution_count": 7,
   "metadata": {},
   "outputs": [],
   "source": [
    "# Now the sql query to get the data is what what you see below.\n",
    "# Note that you will not have permissions to insert delete or update this database table."
   ]
  },
  {
   "cell_type": "code",
   "execution_count": 8,
   "metadata": {},
   "outputs": [
    {
     "data": {
      "text/html": [
       "<div>\n",
       "<style scoped>\n",
       "    .dataframe tbody tr th:only-of-type {\n",
       "        vertical-align: middle;\n",
       "    }\n",
       "\n",
       "    .dataframe tbody tr th {\n",
       "        vertical-align: top;\n",
       "    }\n",
       "\n",
       "    .dataframe thead th {\n",
       "        text-align: right;\n",
       "    }\n",
       "</style>\n",
       "<table border=\"1\" class=\"dataframe\">\n",
       "  <thead>\n",
       "    <tr style=\"text-align: right;\">\n",
       "      <th></th>\n",
       "      <th>Company_Brand</th>\n",
       "      <th>Founded</th>\n",
       "      <th>HeadQuarter</th>\n",
       "      <th>Sector</th>\n",
       "      <th>What_it_does</th>\n",
       "      <th>Founders</th>\n",
       "      <th>Investor</th>\n",
       "      <th>Amount</th>\n",
       "      <th>Stage</th>\n",
       "    </tr>\n",
       "  </thead>\n",
       "  <tbody>\n",
       "    <tr>\n",
       "      <th>0</th>\n",
       "      <td>Unbox Robotics</td>\n",
       "      <td>2019.0</td>\n",
       "      <td>Bangalore</td>\n",
       "      <td>AI startup</td>\n",
       "      <td>Unbox Robotics builds on-demand AI-driven ware...</td>\n",
       "      <td>Pramod Ghadge, Shahid Memon</td>\n",
       "      <td>BEENEXT, Entrepreneur First</td>\n",
       "      <td>$1,200,000</td>\n",
       "      <td>Pre-series A</td>\n",
       "    </tr>\n",
       "    <tr>\n",
       "      <th>1</th>\n",
       "      <td>upGrad</td>\n",
       "      <td>2015.0</td>\n",
       "      <td>Mumbai</td>\n",
       "      <td>EdTech</td>\n",
       "      <td>UpGrad is an online higher education platform.</td>\n",
       "      <td>Mayank Kumar, Phalgun Kompalli, Ravijot Chugh,...</td>\n",
       "      <td>Unilazer Ventures, IIFL Asset Management</td>\n",
       "      <td>$120,000,000</td>\n",
       "      <td>None</td>\n",
       "    </tr>\n",
       "    <tr>\n",
       "      <th>2</th>\n",
       "      <td>Lead School</td>\n",
       "      <td>2012.0</td>\n",
       "      <td>Mumbai</td>\n",
       "      <td>EdTech</td>\n",
       "      <td>LEAD School offers technology based school tra...</td>\n",
       "      <td>Smita Deorah, Sumeet Mehta</td>\n",
       "      <td>GSV Ventures, Westbridge Capital</td>\n",
       "      <td>$30,000,000</td>\n",
       "      <td>Series D</td>\n",
       "    </tr>\n",
       "    <tr>\n",
       "      <th>3</th>\n",
       "      <td>Bizongo</td>\n",
       "      <td>2015.0</td>\n",
       "      <td>Mumbai</td>\n",
       "      <td>B2B E-commerce</td>\n",
       "      <td>Bizongo is a business-to-business online marke...</td>\n",
       "      <td>Aniket Deb, Ankit Tomar, Sachin Agrawal</td>\n",
       "      <td>CDC Group, IDG Capital</td>\n",
       "      <td>$51,000,000</td>\n",
       "      <td>Series C</td>\n",
       "    </tr>\n",
       "    <tr>\n",
       "      <th>4</th>\n",
       "      <td>FypMoney</td>\n",
       "      <td>2021.0</td>\n",
       "      <td>Gurugram</td>\n",
       "      <td>FinTech</td>\n",
       "      <td>FypMoney is Digital NEO Bank for Teenagers, em...</td>\n",
       "      <td>Kapil Banwari</td>\n",
       "      <td>Liberatha Kallat, Mukesh Yadav, Dinesh Nagpal</td>\n",
       "      <td>$2,000,000</td>\n",
       "      <td>Seed</td>\n",
       "    </tr>\n",
       "    <tr>\n",
       "      <th>...</th>\n",
       "      <td>...</td>\n",
       "      <td>...</td>\n",
       "      <td>...</td>\n",
       "      <td>...</td>\n",
       "      <td>...</td>\n",
       "      <td>...</td>\n",
       "      <td>...</td>\n",
       "      <td>...</td>\n",
       "      <td>...</td>\n",
       "    </tr>\n",
       "    <tr>\n",
       "      <th>1204</th>\n",
       "      <td>Gigforce</td>\n",
       "      <td>2019.0</td>\n",
       "      <td>Gurugram</td>\n",
       "      <td>Staffing &amp; Recruiting</td>\n",
       "      <td>A gig/on-demand staffing company.</td>\n",
       "      <td>Chirag Mittal, Anirudh Syal</td>\n",
       "      <td>Endiya Partners</td>\n",
       "      <td>$3000000</td>\n",
       "      <td>Pre-series A</td>\n",
       "    </tr>\n",
       "    <tr>\n",
       "      <th>1205</th>\n",
       "      <td>Vahdam</td>\n",
       "      <td>2015.0</td>\n",
       "      <td>New Delhi</td>\n",
       "      <td>Food &amp; Beverages</td>\n",
       "      <td>VAHDAM is among the world’s first vertically i...</td>\n",
       "      <td>Bala Sarda</td>\n",
       "      <td>IIFL AMC</td>\n",
       "      <td>$20000000</td>\n",
       "      <td>Series D</td>\n",
       "    </tr>\n",
       "    <tr>\n",
       "      <th>1206</th>\n",
       "      <td>Leap Finance</td>\n",
       "      <td>2019.0</td>\n",
       "      <td>Bangalore</td>\n",
       "      <td>Financial Services</td>\n",
       "      <td>International education loans for high potenti...</td>\n",
       "      <td>Arnav Kumar, Vaibhav Singh</td>\n",
       "      <td>Owl Ventures</td>\n",
       "      <td>$55000000</td>\n",
       "      <td>Series C</td>\n",
       "    </tr>\n",
       "    <tr>\n",
       "      <th>1207</th>\n",
       "      <td>CollegeDekho</td>\n",
       "      <td>2015.0</td>\n",
       "      <td>Gurugram</td>\n",
       "      <td>EdTech</td>\n",
       "      <td>Collegedekho.com is Student’s Partner, Friend ...</td>\n",
       "      <td>Ruchir Arora</td>\n",
       "      <td>Winter Capital, ETS, Man Capital</td>\n",
       "      <td>$26000000</td>\n",
       "      <td>Series B</td>\n",
       "    </tr>\n",
       "    <tr>\n",
       "      <th>1208</th>\n",
       "      <td>WeRize</td>\n",
       "      <td>2019.0</td>\n",
       "      <td>Bangalore</td>\n",
       "      <td>Financial Services</td>\n",
       "      <td>India’s first socially distributed full stack ...</td>\n",
       "      <td>Vishal Chopra, Himanshu Gupta</td>\n",
       "      <td>3one4 Capital, Kalaari Capital</td>\n",
       "      <td>$8000000</td>\n",
       "      <td>Series A</td>\n",
       "    </tr>\n",
       "  </tbody>\n",
       "</table>\n",
       "<p>1209 rows × 9 columns</p>\n",
       "</div>"
      ],
      "text/plain": [
       "       Company_Brand  Founded HeadQuarter                 Sector  \\\n",
       "0     Unbox Robotics   2019.0   Bangalore             AI startup   \n",
       "1             upGrad   2015.0      Mumbai                 EdTech   \n",
       "2        Lead School   2012.0      Mumbai                 EdTech   \n",
       "3            Bizongo   2015.0      Mumbai         B2B E-commerce   \n",
       "4           FypMoney   2021.0    Gurugram                FinTech   \n",
       "...              ...      ...         ...                    ...   \n",
       "1204        Gigforce   2019.0    Gurugram  Staffing & Recruiting   \n",
       "1205          Vahdam   2015.0   New Delhi       Food & Beverages   \n",
       "1206    Leap Finance   2019.0   Bangalore     Financial Services   \n",
       "1207    CollegeDekho   2015.0    Gurugram                 EdTech   \n",
       "1208          WeRize   2019.0   Bangalore     Financial Services   \n",
       "\n",
       "                                           What_it_does  \\\n",
       "0     Unbox Robotics builds on-demand AI-driven ware...   \n",
       "1        UpGrad is an online higher education platform.   \n",
       "2     LEAD School offers technology based school tra...   \n",
       "3     Bizongo is a business-to-business online marke...   \n",
       "4     FypMoney is Digital NEO Bank for Teenagers, em...   \n",
       "...                                                 ...   \n",
       "1204                  A gig/on-demand staffing company.   \n",
       "1205  VAHDAM is among the world’s first vertically i...   \n",
       "1206  International education loans for high potenti...   \n",
       "1207  Collegedekho.com is Student’s Partner, Friend ...   \n",
       "1208  India’s first socially distributed full stack ...   \n",
       "\n",
       "                                               Founders  \\\n",
       "0                           Pramod Ghadge, Shahid Memon   \n",
       "1     Mayank Kumar, Phalgun Kompalli, Ravijot Chugh,...   \n",
       "2                            Smita Deorah, Sumeet Mehta   \n",
       "3               Aniket Deb, Ankit Tomar, Sachin Agrawal   \n",
       "4                                         Kapil Banwari   \n",
       "...                                                 ...   \n",
       "1204                        Chirag Mittal, Anirudh Syal   \n",
       "1205                                         Bala Sarda   \n",
       "1206                         Arnav Kumar, Vaibhav Singh   \n",
       "1207                                       Ruchir Arora   \n",
       "1208                      Vishal Chopra, Himanshu Gupta   \n",
       "\n",
       "                                           Investor        Amount  \\\n",
       "0                       BEENEXT, Entrepreneur First    $1,200,000   \n",
       "1          Unilazer Ventures, IIFL Asset Management  $120,000,000   \n",
       "2                  GSV Ventures, Westbridge Capital   $30,000,000   \n",
       "3                            CDC Group, IDG Capital   $51,000,000   \n",
       "4     Liberatha Kallat, Mukesh Yadav, Dinesh Nagpal    $2,000,000   \n",
       "...                                             ...           ...   \n",
       "1204                                Endiya Partners      $3000000   \n",
       "1205                                       IIFL AMC     $20000000   \n",
       "1206                                   Owl Ventures     $55000000   \n",
       "1207               Winter Capital, ETS, Man Capital     $26000000   \n",
       "1208                 3one4 Capital, Kalaari Capital      $8000000   \n",
       "\n",
       "             Stage  \n",
       "0     Pre-series A  \n",
       "1             None  \n",
       "2         Series D  \n",
       "3         Series C  \n",
       "4             Seed  \n",
       "...            ...  \n",
       "1204  Pre-series A  \n",
       "1205      Series D  \n",
       "1206      Series C  \n",
       "1207      Series B  \n",
       "1208      Series A  \n",
       "\n",
       "[1209 rows x 9 columns]"
      ]
     },
     "execution_count": 8,
     "metadata": {},
     "output_type": "execute_result"
    }
   ],
   "source": [
    "\n",
    "# Now the sql query to get the data is what what you see below.\n",
    "# Note that you will not have permissions to insert delete or update this database table.\n",
    " \n",
    "query = '''SELECT * FROM dbo.LP1_startup_funding2020'''\n",
    "query = '''SELECT * FROM dbo.LP1_startup_funding2021'''\n",
    "data_2018 = pd.read_csv('C:\\\\Users\\\\TOBYCRIBS\\\\my vscode tuturial\\\\wayne\\\\startup_funding2018.csv')\n",
    "data_2018\n",
    "data_2019 = pd.read_csv('C:\\\\Users\\\\TOBYCRIBS\\\\my vscode tuturial\\\\wayne\\\\startup_funding2019.csv')\n",
    "data_2019\n",
    "data_2020 = pd.read_sql(query, connection)\n",
    "data_2020\n",
    "data_2021 = pd.read_sql(query, connection)\n",
    "data_2021"
   ]
  },
  {
   "cell_type": "code",
   "execution_count": 9,
   "metadata": {},
   "outputs": [],
   "source": [
    "import pandas as pd\n",
    "import matplotlib.pyplot as plt\n",
    "import seaborn as sns"
   ]
  },
  {
   "cell_type": "code",
   "execution_count": 10,
   "metadata": {},
   "outputs": [],
   "source": [
    "#Rename columns of data_2018 to match combined_data\n",
    "data_2018 = data_2018.rename(columns={\n",
    "    'Company Name': 'Company_Brand',\n",
    "    'Industry': 'Sector',\n",
    "    'Round/Series': 'Stage',\n",
    "    'Amount': 'Amount',\n",
    "    'Location': 'HeadQuarter',\n",
    "    'About Company': 'What_it_does'\n",
    "})"
   ]
  },
  {
   "cell_type": "code",
   "execution_count": 12,
   "metadata": {},
   "outputs": [],
   "source": [
    "\n",
    "# Add the 'Year' column\n",
    "data_2018['Year'] = 2018\n",
    "data_2019['Year'] = 2019\n",
    "data_2020['Year'] = 2020\n",
    "data_2021['Year'] = 2021"
   ]
  },
  {
   "cell_type": "markdown",
   "metadata": {},
   "source": [
    "CONCATENATING"
   ]
  },
  {
   "cell_type": "code",
   "execution_count": 13,
   "metadata": {},
   "outputs": [],
   "source": [
    "# Combine all datasets\n",
    "df_combined = pd.concat([data_2019, data_2020, data_2021, data_2018], ignore_index=True)"
   ]
  },
  {
   "cell_type": "code",
   "execution_count": 14,
   "metadata": {},
   "outputs": [],
   "source": [
    "# Convert the 'Year' column to datetime format (handling NaNs appropriately)\n",
    "df_combined['Year'] = pd.to_datetime(df_combined['Year'], format='%Y', errors='coerce')"
   ]
  },
  {
   "cell_type": "markdown",
   "metadata": {},
   "source": [
    "DATA CLEANING"
   ]
  },
  {
   "cell_type": "code",
   "execution_count": 16,
   "metadata": {},
   "outputs": [
    {
     "data": {
      "text/plain": [
       "array([False, False, False, False, False, False, False, False, False,\n",
       "       False, False, False, False])"
      ]
     },
     "execution_count": 16,
     "metadata": {},
     "output_type": "execute_result"
    }
   ],
   "source": [
    "\n",
    "# Check for duplicated columns\n",
    "df_combined.columns.duplicated()"
   ]
  },
  {
   "cell_type": "code",
   "execution_count": 17,
   "metadata": {},
   "outputs": [
    {
     "name": "stdout",
     "output_type": "stream",
     "text": [
      "<class 'pandas.core.frame.DataFrame'>\n",
      "RangeIndex: 3033 entries, 0 to 3032\n",
      "Data columns (total 13 columns):\n",
      " #   Column         Non-Null Count  Dtype         \n",
      "---  ------         --------------  -----         \n",
      " 0   Company/Brand  89 non-null     object        \n",
      " 1   Founded        2476 non-null   float64       \n",
      " 2   HeadQuarter    3012 non-null   object        \n",
      " 3   Sector         3028 non-null   object        \n",
      " 4   What it does   89 non-null     object        \n",
      " 5   Founders       2496 non-null   object        \n",
      " 6   Investor       2383 non-null   object        \n",
      " 7   Amount($)      89 non-null     object        \n",
      " 8   Stage          2131 non-null   object        \n",
      " 9   Year           3033 non-null   datetime64[ns]\n",
      " 10  Company_Brand  2944 non-null   object        \n",
      " 11  What_it_does   2944 non-null   object        \n",
      " 12  Amount         2938 non-null   object        \n",
      "dtypes: datetime64[ns](1), float64(1), object(11)\n",
      "memory usage: 308.2+ KB\n"
     ]
    }
   ],
   "source": [
    "df_combined.info()"
   ]
  },
  {
   "cell_type": "markdown",
   "metadata": {},
   "source": [
    "AMOUNT COLUMN CLEANING"
   ]
  },
  {
   "cell_type": "code",
   "execution_count": 19,
   "metadata": {},
   "outputs": [
    {
     "data": {
      "text/plain": [
       "array([nan, '$1,200,000', '$120,000,000', '$30,000,000', '$51,000,000',\n",
       "       '$2,000,000', '$188,000,000', '$200,000', 'Undisclosed',\n",
       "       '$1,000,000', '$3,000,000', '$100,000', '$700,000', '$9,000,000',\n",
       "       '$40,000,000', '$49,000,000', '$400,000', '$300,000',\n",
       "       '$25,000,000', '$160,000,000', '$150,000', '$1,800,000',\n",
       "       '$5,000,000', '$850,000', '$53,000,000', '$500,000', '$1,100,000',\n",
       "       '$6,000,000', '$800,000', '$10,000,000', '$21,000,000',\n",
       "       '$7,500,000', '$26,000,000', '$7,400,000', '$1,500,000',\n",
       "       '$600,000', '$800,000,000', '$17,000,000', '$3,500,000',\n",
       "       '$15,000,000', '$215,000,000', '$2,500,000', '$350,000,000',\n",
       "       '$5,500,000', '$83,000,000', '$110,000,000', '$500,000,000',\n",
       "       '$65,000,000', '$150,000,000,000', '$300,000,000', '$2,200,000',\n",
       "       '$35,000,000', '$140,000,000', '$4,000,000', '$13,000,000', None,\n",
       "       '$Undisclosed', '$2000000', '$800000', '$6000000', '$2500000',\n",
       "       '$9500000', '$13000000', '$5000000', '$8000000', '$1000000',\n",
       "       'Upsparks', '$200000', '$12000000', '$1500000', '$1700000',\n",
       "       '$5500000', '$400000', '$150000000', '$4000000', '$100000000',\n",
       "       '$500000', '$15000000', '$10000000', '$40000000', '$225000000',\n",
       "       '$6700000', '$1300000', '$20000000', '$250000', '$21000000',\n",
       "       '$1200000', '$52000000', '$3800000', '$17500000', '$42000000',\n",
       "       '$2300000', '$7000000', '$30000000', '$450000000', '$28000000',\n",
       "       '$300000', '$3500000', '$8500000', '$25000000', '$3000000',\n",
       "       '$37000000', '$370000000', '$700000', '$16000000', '$100000',\n",
       "       '$44000000', '$770000', '$125000000', '$35000000', '$50000000',\n",
       "       '$4900000', '$145000000', '$22000000', '$70000000', '$6600000',\n",
       "       '$32000000', '$24000000', '$725000', '$461000', 'Series C', 'Seed',\n",
       "       '$96000000', '$60000000', '$500000000', '$266000000', '$4500000',\n",
       "       '$325000000', '$6500000', '$1600000', '$150000', '$225000',\n",
       "       '$85000000', '$235000', '$260000', '$2900000', '$53000000',\n",
       "       '$1100000', '$86000000', '$130000', '$$100,00', '$111000000',\n",
       "       '$265000', '$76000000', '$100,000,000', '$75,000,000',\n",
       "       '$3,800,000', '$12,000,000', '$1,600,000', '$260,000',\n",
       "       '$1,000,000,000', '$18,000,000', '$20,000,000', '$350,000',\n",
       "       '$95,000,000', '$4,100,000', '$5,200,000', '$8,000,000',\n",
       "       '$1,400,000', '$2,600,000', '$900,000', '$250,000', '$16,000,000',\n",
       "       '$7,000,000', '$11,000,000', '$280,000,000', '$50,000,000',\n",
       "       '$14,300,000', '$81,000,000', '$1,300,000', '$8,200,000',\n",
       "       '$70,000,000', '$720,000', '$600000', '$9000000', '$1800000',\n",
       "       '$330000', '$undisclosed', '$200000000', '$36000000', '$67000000',\n",
       "       '$10200000', '$220000000', '$108000000', '$75000000', '$450000',\n",
       "       '$660000000', 'ah! Ventures', '$45000000', '$3200000', '$370000',\n",
       "       'Pre-series A', 'ITO Angel Network, LetsVenture', '$48000000',\n",
       "       '$3600000', '$11000000', '$192000000', '$65000000', '$1400000',\n",
       "       '$1900000', '$41000000', '$144000000', '$5200000', '$270000000',\n",
       "       '$140000', '$250000000', '$320000', '$350000000', '$4800000',\n",
       "       '$38000000', '$125000', '$26000000', '$64000000', '$620000',\n",
       "       '$900000', 'JITO Angel Network, LetsVenture', '$2600000',\n",
       "       '$1,250,000', '$400,000,000', '$1,700,000', '$27,000,000',\n",
       "       '$234,000,000', '$460,000,000', '$13,500,000', '$5,100,000',\n",
       "       '$195,000,000', '$125,000', '$45,000,000', '$200,000,000',\n",
       "       '$7,300,000', '$6,300,000', '$12,500,000', '$24,000,000',\n",
       "       '$140,000', '$16,500,000', '$340,000', '$43,000,000',\n",
       "       '$150,000,000', '$3300000', '$92000000', '$17000000', '$135000000',\n",
       "       '$$1,55,000', '$2100000', '$840000000', '$248000000', '$4300000',\n",
       "       '$570000', '$2200000', '$4700000', '$300000000', '$260000000',\n",
       "       '$140000000', '$175000000', '$19000000', '$810000', '$7500000',\n",
       "       '$600000000', '$90000000', '$5700000', '$6750000', '$78000000',\n",
       "       '$5400000', '$115000000', '$255000000', '$18000000', '$570000000',\n",
       "       '$550000', '$2700000', '$4200000', '$31000000', '$540000',\n",
       "       '$14000000', '$340000', '$', '$6200000', '$750000', '$6300000',\n",
       "       '$23000000', '$55000000', '250000', '₹40,000,000', '₹65,000,000',\n",
       "       '2000000', '—', '1600000', '₹16,000,000', '₹50,000,000',\n",
       "       '₹100,000,000', '150000', '1100000', '₹500,000', '6000000',\n",
       "       '650000', '₹35,000,000', '₹64,000,000', '₹20,000,000', '1000000',\n",
       "       '5000000', '4000000', '₹30,000,000', '2800000', '1700000',\n",
       "       '1300000', '₹5,000,000', '₹12,500,000', '₹15,000,000', '500000',\n",
       "       '₹104,000,000', '₹45,000,000', '13400000', '₹25,000,000',\n",
       "       '₹26,400,000', '₹8,000,000', '₹60,000', '9000000', '100000',\n",
       "       '20000', '120000', '₹34,000,000', '₹342,000,000', '$143,145',\n",
       "       '₹600,000,000', '$742,000,000', '₹1,000,000,000', '₹2,000,000,000',\n",
       "       '$3,980,000', '$10,000', '₹100,000', '₹250,000,000',\n",
       "       '₹550,000,000', '$28,500,000', '₹240,000,000', '₹120,000,000',\n",
       "       '$2,400,000', '₹2,500,000,000', '$23,000,000', '₹44,000,000',\n",
       "       '$3,240,000', '₹60,000,000', '$540,000,000', '₹650,000,000',\n",
       "       '₹1,600,000,000', '₹70,000,000', '$14,000,000', '₹102,500,000',\n",
       "       '₹1,200,000', '₹5,200,000,000', '$1,041,000', '$15,000', '1400000',\n",
       "       '1200000', '2200000', '1800000', '3600000', '₹9,500,000', '300000',\n",
       "       '6830000', '200000', '₹150,000,000', '4300000', '364846', '400000',\n",
       "       '1500000', '₹7,000,000', '₹1,400,000', '₹10,000,000',\n",
       "       '₹22,500,000', '13200000', '50000', '₹140,200,000', '3000000',\n",
       "       '1250000', '180000', '₹19,200,000', '₹103,000,000', '4200000',\n",
       "       '175000', '1450000', '₹200,000', '4500000', '600000',\n",
       "       '₹16,600,000', '₹12,000,000', '15000000', '₹33,000,000', '125000',\n",
       "       '130000', '₹34,900,000', '₹72,000,000', '17200000', '₹32,000,000',\n",
       "       '3500000', '₹135,000,000', '12000000', '₹1,540,000,000',\n",
       "       '₹140,000,000', '$41,900,000', '₹1,410,000,000', '$3,530,000',\n",
       "       '$3,300,000', '₹580,000,000', '₹36,000,000', '₹340,000,000',\n",
       "       '$210,000,000', '$37,680,000', '$20,000', '₹510,000,000',\n",
       "       '₹2,200,000,000', '22000000', '70000', '10000000',\n",
       "       '₹15,392,000,000', '₹20,000,000,000', '₹4,000,000,000',\n",
       "       '185000000', '65000000', '₹165,000,000', '700000', '30000000',\n",
       "       '₹210,000,000', '210000000', '₹2,029,600,000', '75000000',\n",
       "       '₹80,000,000', '1760000', '2700000', '₹280,000,000',\n",
       "       '₹800,000,000', '750000', '2500000', '80000000', '25000000',\n",
       "       '₹730,000,000', '₹400,000,000', '3700000', '5600000',\n",
       "       '₹260,000,000', '99230000', '70000000', '40000', '550000',\n",
       "       '50000000', '365000000', '₹8,750,000', '₹78,000,000', '28000000',\n",
       "       '₹264,000,000', '100000000', '₹1,130,000,000', '₹810,000,000',\n",
       "       '₹1,400,000,000', '14900000', '225000000', '7500', '35000000'],\n",
       "      dtype=object)"
      ]
     },
     "execution_count": 19,
     "metadata": {},
     "output_type": "execute_result"
    }
   ],
   "source": [
    "\n",
    "df_combined['Amount'].unique()"
   ]
  },
  {
   "cell_type": "code",
   "execution_count": 20,
   "metadata": {},
   "outputs": [],
   "source": [
    "# Function to clean and normalize the 'Amount' column\n",
    "def clean_amount(amount):\n",
    "    if pd.isna(amount) or amount in ['Undisclosed', '$Undisclosed', 'Upsparks']:\n",
    "        return np.nan\n",
    "    amount = amount.replace(',', '').replace('$', '').replace('₹', '')\n",
    "    try:\n",
    "        amount = float(amount)\n",
    "    except ValueError:\n",
    "        return np.nan\n",
    "    return amount\n",
    " \n",
    "# Apply the cleaning function to the 'Amount' column\n",
    "df_combined['Amount'] = df_combined['Amount'].apply(clean_amount)\n",
    " \n",
    "# Create a temporary column to identify the currency type\n",
    "df_combined['Currency'] = df_combined['Amount'].apply(lambda x: 'INR' if '₹' in str(x) else 'USD')\n",
    " \n",
    "# Function to convert all amounts to USD\n",
    "def convert_currency(amount, currency):\n",
    "    if currency == 'INR':\n",
    "        return amount * 0.013  # Assuming an exchange rate of 1 INR = 0.013 USD\n",
    "    return amount"
   ]
  },
  {
   "cell_type": "code",
   "execution_count": 21,
   "metadata": {},
   "outputs": [
    {
     "name": "stdout",
     "output_type": "stream",
     "text": [
      "Missing values in 'Amount' column before filling: 543\n",
      "Missing values in 'Amount' column after filling: 0\n",
      "<class 'pandas.core.frame.DataFrame'>\n",
      "RangeIndex: 3033 entries, 0 to 3032\n",
      "Data columns (total 13 columns):\n",
      " #   Column         Non-Null Count  Dtype         \n",
      "---  ------         --------------  -----         \n",
      " 0   Company/Brand  89 non-null     object        \n",
      " 1   Founded        2476 non-null   float64       \n",
      " 2   HeadQuarter    3012 non-null   object        \n",
      " 3   Sector         3028 non-null   object        \n",
      " 4   What it does   89 non-null     object        \n",
      " 5   Founders       2496 non-null   object        \n",
      " 6   Investor       2383 non-null   object        \n",
      " 7   Amount($)      89 non-null     object        \n",
      " 8   Stage          2131 non-null   object        \n",
      " 9   Year           3033 non-null   datetime64[ns]\n",
      " 10  Company_Brand  2944 non-null   object        \n",
      " 11  What_it_does   2944 non-null   object        \n",
      " 12  Amount         3033 non-null   float64       \n",
      "dtypes: datetime64[ns](1), float64(2), object(10)\n",
      "memory usage: 308.2+ KB\n"
     ]
    }
   ],
   "source": [
    "# Convert all amounts to USD\n",
    "df_combined['Amount'] = df_combined.apply(lambda row: convert_currency(row['Amount'], row['Currency']), axis=1)\n",
    " \n",
    "# Drop the temporary 'Currency' column\n",
    "df_combined.drop(columns=['Currency'], inplace=True)\n",
    " \n",
    "# Convert the cleaned 'Amount' column to numeric, forcing errors to NaN\n",
    "df_combined['Amount'] = pd.to_numeric(df_combined['Amount'], errors='coerce')\n",
    " \n",
    "# Check for missing values before filling\n",
    "missing_values_before = df_combined['Amount'].isnull().sum()\n",
    "print(f\"Missing values in 'Amount' column before filling: {missing_values_before}\")\n",
    " \n",
    "# Fill remaining missing values in 'Amount' column with the median value\n",
    "df_combined['Amount'].fillna(df_combined['Amount'].median(), inplace=True)\n",
    " \n",
    "# Check for missing values after filling\n",
    "missing_values_after = df_combined['Amount'].isnull().sum()\n",
    "print(f\"Missing values in 'Amount' column after filling: {missing_values_after}\")\n",
    " \n",
    "# Check the cleaned DataFrame\n",
    "df_combined.info()"
   ]
  },
  {
   "cell_type": "markdown",
   "metadata": {},
   "source": [
    "FOUNDED COLUMN CLEANING"
   ]
  },
  {
   "cell_type": "code",
   "execution_count": 22,
   "metadata": {},
   "outputs": [
    {
     "data": {
      "text/plain": [
       "array([  nan, 2014., 2004., 2013., 2010., 2018., 2019., 2017., 2011.,\n",
       "       2015., 2016., 2012., 2008., 2021., 2020., 1993., 1999., 1989.,\n",
       "       2009., 2002., 1994., 2006., 2000., 2007., 1978., 2003., 1998.,\n",
       "       1991., 1984., 2005., 1963.])"
      ]
     },
     "execution_count": 22,
     "metadata": {},
     "output_type": "execute_result"
    }
   ],
   "source": [
    "df_combined['Founded'].unique()"
   ]
  },
  {
   "cell_type": "code",
   "execution_count": 23,
   "metadata": {},
   "outputs": [
    {
     "name": "stdout",
     "output_type": "stream",
     "text": [
      "<class 'pandas.core.frame.DataFrame'>\n",
      "RangeIndex: 3033 entries, 0 to 3032\n",
      "Data columns (total 13 columns):\n",
      " #   Column         Non-Null Count  Dtype         \n",
      "---  ------         --------------  -----         \n",
      " 0   Company/Brand  89 non-null     object        \n",
      " 1   Founded        3033 non-null   float64       \n",
      " 2   HeadQuarter    3012 non-null   object        \n",
      " 3   Sector         3028 non-null   object        \n",
      " 4   What it does   89 non-null     object        \n",
      " 5   Founders       2496 non-null   object        \n",
      " 6   Investor       2383 non-null   object        \n",
      " 7   Amount($)      89 non-null     object        \n",
      " 8   Stage          2131 non-null   object        \n",
      " 9   Year           3033 non-null   datetime64[ns]\n",
      " 10  Company_Brand  2944 non-null   object        \n",
      " 11  What_it_does   2944 non-null   object        \n",
      " 12  Amount         3033 non-null   float64       \n",
      "dtypes: datetime64[ns](1), float64(2), object(10)\n",
      "memory usage: 308.2+ KB\n"
     ]
    }
   ],
   "source": [
    "# Handle missing values by filling with the forward fill\n",
    " \n",
    "# Fill missing values with the forward fill\n",
    "df_combined['Founded'] = df_combined['Founded'].fillna(method='ffill')\n",
    " \n",
    " \n",
    "# If the first value is still NaT, use backward fill for the first value\n",
    "df_combined['Founded'] = df_combined['Founded'].fillna(method='bfill')\n",
    " \n",
    "# Check the DataFrame info to ensure proper conversion and filling\n",
    "df_combined.info()\n",
    " "
   ]
  },
  {
   "cell_type": "markdown",
   "metadata": {},
   "source": [
    "HEADQUARTER"
   ]
  },
  {
   "cell_type": "code",
   "execution_count": 24,
   "metadata": {},
   "outputs": [
    {
     "data": {
      "text/plain": [
       "array([nan, 'Mumbai', 'Chennai', 'Telangana', 'Pune', 'Bangalore',\n",
       "       'Noida', 'Delhi', 'Ahmedabad', 'Gurugram', 'Haryana', 'Chandigarh',\n",
       "       'Jaipur', 'New Delhi', 'Surat', 'Uttar pradesh', 'Hyderabad',\n",
       "       'Rajasthan', 'Ahmadabad', None, 'Small Towns, Andhra Pradesh',\n",
       "       'Goa', 'Rajsamand', 'Ranchi', 'Faridabad, Haryana', 'Gujarat',\n",
       "       'Thane', 'Computer Games', 'Cochin', 'Gurgaon', 'Vadodara',\n",
       "       'Food & Beverages', 'Pharmaceuticals\\t#REF!', 'Gurugram\\t#REF!',\n",
       "       'Kolkata', 'Mohali', 'Indore', 'Powai', 'Ghaziabad', 'Nagpur',\n",
       "       'West Bengal', 'Patna', 'Samsitpur', 'Lucknow', 'Silvassa',\n",
       "       'Thiruvananthapuram', 'Faridabad', 'Roorkee', 'Ambernath',\n",
       "       'Panchkula', 'Coimbatore', 'Andheri', 'Mangalore', 'Telugana',\n",
       "       'Bhubaneswar', 'Kottayam', 'Beijing', 'Panaji', 'Satara',\n",
       "       'Orissia', 'Jodhpur', 'New York', 'Santra', 'Mountain View, CA',\n",
       "       'Trivandrum', 'Jharkhand', 'Kanpur', 'Bhilwara', 'Guwahati',\n",
       "       'Online Media\\t#REF!', 'Kochi', 'London',\n",
       "       'Information Technology & Services', 'The Nilgiris', 'Gandhinagar',\n",
       "       'Bangalore, Karnataka, India', 'Mumbai, Maharashtra, India',\n",
       "       'Gurgaon, Haryana, India', 'Noida, Uttar Pradesh, India',\n",
       "       'Hyderabad, Andhra Pradesh, India', 'Bengaluru, Karnataka, India',\n",
       "       'Kalkaji, Delhi, India', 'Delhi, Delhi, India', 'India, Asia',\n",
       "       'Hubli, Karnataka, India', 'New Delhi, Delhi, India',\n",
       "       'Chennai, Tamil Nadu, India', 'Mohali, Punjab, India',\n",
       "       'Kolkata, West Bengal, India', 'Pune, Maharashtra, India',\n",
       "       'Jodhpur, Rajasthan, India', 'Kanpur, Uttar Pradesh, India',\n",
       "       'Ahmedabad, Gujarat, India', 'Azadpur, Delhi, India',\n",
       "       'Haryana, Haryana, India', 'Cochin, Kerala, India',\n",
       "       'Faridabad, Haryana, India', 'Jaipur, Rajasthan, India',\n",
       "       'Kota, Rajasthan, India', 'Anand, Gujarat, India',\n",
       "       'Bangalore City, Karnataka, India', 'Belgaum, Karnataka, India',\n",
       "       'Thane, Maharashtra, India', 'Margão, Goa, India',\n",
       "       'Indore, Madhya Pradesh, India', 'Alwar, Rajasthan, India',\n",
       "       'Kannur, Kerala, India', 'Trivandrum, Kerala, India',\n",
       "       'Ernakulam, Kerala, India', 'Kormangala, Karnataka, India',\n",
       "       'Uttar Pradesh, India, Asia', 'Andheri, Maharashtra, India',\n",
       "       'Mylapore, Tamil Nadu, India', 'Ghaziabad, Uttar Pradesh, India',\n",
       "       'Kochi, Kerala, India', 'Powai, Assam, India',\n",
       "       'Guntur, Andhra Pradesh, India', 'Kalpakkam, Tamil Nadu, India',\n",
       "       'Bhopal, Madhya Pradesh, India', 'Coimbatore, Tamil Nadu, India',\n",
       "       'Worli, Maharashtra, India', 'Alleppey, Kerala, India',\n",
       "       'Chandigarh, Chandigarh, India', 'Guindy, Tamil Nadu, India',\n",
       "       'Lucknow, Uttar Pradesh, India'], dtype=object)"
      ]
     },
     "execution_count": 24,
     "metadata": {},
     "output_type": "execute_result"
    }
   ],
   "source": [
    "df_combined['HeadQuarter'].unique()"
   ]
  },
  {
   "cell_type": "code",
   "execution_count": null,
   "metadata": {},
   "outputs": [],
   "source": []
  },
  {
   "cell_type": "code",
   "execution_count": null,
   "metadata": {},
   "outputs": [],
   "source": []
  },
  {
   "cell_type": "code",
   "execution_count": null,
   "metadata": {},
   "outputs": [],
   "source": []
  }
 ],
 "metadata": {
  "kernelspec": {
   "display_name": "Python 3",
   "language": "python",
   "name": "python3"
  },
  "language_info": {
   "codemirror_mode": {
    "name": "ipython",
    "version": 3
   },
   "file_extension": ".py",
   "mimetype": "text/x-python",
   "name": "python",
   "nbconvert_exporter": "python",
   "pygments_lexer": "ipython3",
   "version": "3.11.7"
  }
 },
 "nbformat": 4,
 "nbformat_minor": 2
}
